{
  "cells": [
    {
      "metadata": {
        "_uuid": "8f2839f25d086af736a60e9eeb907d3b93b6e0e5",
        "_cell_guid": "b1076dfc-b9ad-4769-8c92-a6c4dae69d19",
        "trusted": true
      },
      "cell_type": "code",
      "source": "# This Python 3 environment comes with many helpful analytics libraries installed\n# It is defined by the kaggle/python docker image: https://github.com/kaggle/docker-python\n# For example, here's several helpful packages to load in \n\nimport numpy as np # linear algebra\nimport pandas as pd # data processing, CSV file I/O (e.g. pd.read_csv)\n\n# Input data files are available in the \"../input/\" directory.\n# For example, running this (by clicking run or pressing Shift+Enter) will list the files in the input directory\n\nimport os\nprint(os.listdir(\"../input\"))\n# Any results you write to the current directory are saved as output.",
      "execution_count": null,
      "outputs": []
    },
    {
      "metadata": {
        "_cell_guid": "79c7e3d0-c299-4dcb-8224-4455121ee9b0",
        "_uuid": "d629ff2d2480ee46fbb7e2d37f6b5fab8052498a",
        "trusted": true
      },
      "cell_type": "code",
      "source": "#Author Jeong, Soyeon, kt01067774539@gmail.com\n#Supervisor Na, In Seop, ypencil@hanmail.net\n#Starting 2019.01.04\nimport numpy as np\nimport pandas as pd\n\ntrain = pd.read_csv('../input/train.csv')\ntest = pd.read_csv('../input/test.csv')",
      "execution_count": null,
      "outputs": []
    },
    {
      "metadata": {
        "trusted": true,
        "_uuid": "b81ef70fb26dd2db0afb68ac0d52a0ec94d5592b"
      },
      "cell_type": "code",
      "source": "train.head()",
      "execution_count": null,
      "outputs": []
    },
    {
      "metadata": {
        "trusted": true,
        "_uuid": "dcbbfbe8842c3077f988aea2759bdaf310411a8c"
      },
      "cell_type": "code",
      "source": "test.head()",
      "execution_count": null,
      "outputs": []
    },
    {
      "metadata": {
        "trusted": true,
        "_uuid": "fdf0dcc3c556f543c324ea866ad44bcc335989dc"
      },
      "cell_type": "code",
      "source": "train.shape",
      "execution_count": null,
      "outputs": []
    },
    {
      "metadata": {
        "trusted": true,
        "_uuid": "432d84d1ec0b1a97458fab07fae198ad11b0faaa"
      },
      "cell_type": "code",
      "source": "test.shape",
      "execution_count": null,
      "outputs": []
    },
    {
      "metadata": {
        "trusted": true,
        "_uuid": "9212778d3f08c802fabdce168ed995adf9f3f26a"
      },
      "cell_type": "code",
      "source": "train.info()",
      "execution_count": null,
      "outputs": []
    },
    {
      "metadata": {
        "trusted": true,
        "_uuid": "12de6d769b12989b63ba1d141861079225d17927"
      },
      "cell_type": "code",
      "source": "test.info()",
      "execution_count": null,
      "outputs": []
    },
    {
      "metadata": {
        "trusted": true,
        "_uuid": "e11424c0a4c9ecf9866d2fe2b228552915a2c56a"
      },
      "cell_type": "code",
      "source": "train.isnull().sum()",
      "execution_count": null,
      "outputs": []
    },
    {
      "metadata": {
        "trusted": true,
        "_uuid": "4fe727b6e551da5feecbe46ea0927b90abed724e"
      },
      "cell_type": "code",
      "source": "test.isnull().sum()",
      "execution_count": null,
      "outputs": []
    },
    {
      "metadata": {
        "trusted": true,
        "_uuid": "9aed48e62599450dc41524166b2457e1bdd80162"
      },
      "cell_type": "code",
      "source": "import matplotlib.pyplot as plt\nimport seaborn as sns",
      "execution_count": null,
      "outputs": []
    },
    {
      "metadata": {
        "trusted": true,
        "_uuid": "75c86004bc9d9ed8048aa2c00d4a862d32376541"
      },
      "cell_type": "code",
      "source": "def bar_chart(feature):\n    survived = train[train['Survived']==1][feature].value_counts()\n    dead = train[train['Survived']==0][feature].value_counts()\n    df = pd.DataFrame([survived,dead])\n    df.index = ['Survived','Dead']\n    df.plot(kind='bar',stacked=True, figsize=(10,5))",
      "execution_count": null,
      "outputs": []
    },
    {
      "metadata": {
        "trusted": true,
        "_uuid": "6671a8cfd2965578c9f46bdf474ac86086185186"
      },
      "cell_type": "code",
      "source": "bar_chart('Age')",
      "execution_count": null,
      "outputs": []
    },
    {
      "metadata": {
        "trusted": true,
        "_uuid": "c201dc26dad180d0268e23866f7f7568518c693d"
      },
      "cell_type": "code",
      "source": "bar_chart('Sex')",
      "execution_count": null,
      "outputs": []
    },
    {
      "metadata": {
        "trusted": true,
        "_uuid": "370c0b136eaec03b94a5c4fb54fac0367be62fc5"
      },
      "cell_type": "code",
      "source": "bar_chart('Fare')",
      "execution_count": null,
      "outputs": []
    },
    {
      "metadata": {
        "trusted": true,
        "_uuid": "2b92a90b69c8ea09e6c846e408715f3d30d7291c"
      },
      "cell_type": "code",
      "source": "bar_chart('Embarked')",
      "execution_count": null,
      "outputs": []
    },
    {
      "metadata": {
        "trusted": true,
        "_uuid": "eda32d50eac8afcc6781d0d5ccf168ba4415a47b"
      },
      "cell_type": "code",
      "source": "total_data = [train, test]",
      "execution_count": null,
      "outputs": []
    },
    {
      "metadata": {
        "trusted": true,
        "_uuid": "071584dfd507912be6d703978322ae1509193722"
      },
      "cell_type": "code",
      "source": "train.head()",
      "execution_count": null,
      "outputs": []
    },
    {
      "metadata": {
        "trusted": true,
        "_uuid": "efa62b7bc3c4311e4f8bc32336efb100815e532b"
      },
      "cell_type": "code",
      "source": "train.drop('Name', axis=1, inplace=True)\ntest.drop('Name', axis=1, inplace=True)",
      "execution_count": null,
      "outputs": []
    },
    {
      "metadata": {
        "trusted": true,
        "_uuid": "60453f017ce463cc0cc0c88f5222d4b3e4330609"
      },
      "cell_type": "code",
      "source": "train.head()",
      "execution_count": null,
      "outputs": []
    },
    {
      "metadata": {
        "trusted": true,
        "_uuid": "056a52668f043e3ad338fca81a9ed12a860e6923"
      },
      "cell_type": "code",
      "source": "test.head()",
      "execution_count": null,
      "outputs": []
    },
    {
      "metadata": {
        "trusted": true,
        "_uuid": "2f52b9a0c632d350fbb9cdb47a8467650cae9f03"
      },
      "cell_type": "code",
      "source": "sex_mapping = {\"male\": 0, \"female\": 1}\nfor dataset in total_data:\n    dataset['Sex'] = dataset['Sex'].map(sex_mapping)",
      "execution_count": null,
      "outputs": []
    },
    {
      "metadata": {
        "trusted": true,
        "_uuid": "1ad294caa5676e6bcf9ae6fe3e20641090d07d73"
      },
      "cell_type": "code",
      "source": "bar_chart('Sex')",
      "execution_count": null,
      "outputs": []
    },
    {
      "metadata": {
        "trusted": true,
        "_uuid": "bf1d19dc9be80f10e5aa091e7e28def55503c2b8"
      },
      "cell_type": "code",
      "source": "train.head()",
      "execution_count": null,
      "outputs": []
    },
    {
      "metadata": {
        "trusted": true,
        "_uuid": "225dcadaf718bbf3a0e6723bc9da5e8decfb9e6e"
      },
      "cell_type": "code",
      "source": "train[\"Age\"].fillna(train.groupby(\"Sex\")[\"Age\"].transform(\"median\"), inplace=True)",
      "execution_count": null,
      "outputs": []
    },
    {
      "metadata": {
        "trusted": true,
        "_uuid": "d41ce701f26ecc398427ad8ef64bfd9d19dab37f"
      },
      "cell_type": "code",
      "source": "test[\"Age\"].fillna(train.groupby(\"Sex\")[\"Age\"].transform(\"median\"), inplace=True)",
      "execution_count": null,
      "outputs": []
    },
    {
      "metadata": {
        "trusted": true,
        "_uuid": "98baa878d174ebc81bb2be38ca39ceef1534329b"
      },
      "cell_type": "code",
      "source": "train.head()",
      "execution_count": null,
      "outputs": []
    },
    {
      "metadata": {
        "trusted": true,
        "_uuid": "0206b7318235c4f38c1e47d2ec91772c4abb526a"
      },
      "cell_type": "code",
      "source": "train.head(30)",
      "execution_count": null,
      "outputs": []
    },
    {
      "metadata": {
        "trusted": true,
        "_uuid": "b2481d1172c92800904a02bdf740cb1dfaac5bdf"
      },
      "cell_type": "code",
      "source": "facet = sns.FacetGrid(train, hue=\"Survived\",aspect=4)\nfacet.map(sns.kdeplot,'Age',shade= True)\nfacet.set(xlim=(0, train['Age'].max()))\nfacet.add_legend()\n \nplt.show()",
      "execution_count": null,
      "outputs": []
    },
    {
      "metadata": {
        "trusted": true,
        "_uuid": "221b062303867a20e1c5799b0c61986e162b1153"
      },
      "cell_type": "code",
      "source": "facet = sns.FacetGrid(train, hue=\"Survived\",aspect=4)\nfacet.map(sns.kdeplot,'Age',shade= True)\nfacet.set(xlim=(0, train['Age'].max()))\nfacet.add_legend()\nplt.xlim(0, 20)",
      "execution_count": null,
      "outputs": []
    },
    {
      "metadata": {
        "trusted": true,
        "_uuid": "ad1553e4ed654201f7a44b91392f69473a630730"
      },
      "cell_type": "code",
      "source": "facet = sns.FacetGrid(train, hue=\"Survived\",aspect=4)\nfacet.map(sns.kdeplot,'Age',shade= True)\nfacet.set(xlim=(0, train['Age'].max()))\nfacet.add_legend()\nplt.xlim(20, 30)",
      "execution_count": null,
      "outputs": []
    },
    {
      "metadata": {
        "trusted": true,
        "_uuid": "d378c22cbead052e18c8ff0bd931c0c368138a82"
      },
      "cell_type": "code",
      "source": "facet = sns.FacetGrid(train, hue=\"Survived\",aspect=4)\nfacet.map(sns.kdeplot,'Age',shade= True)\nfacet.set(xlim=(0, train['Age'].max()))\nfacet.add_legend()\nplt.xlim(30, 40)",
      "execution_count": null,
      "outputs": []
    },
    {
      "metadata": {
        "trusted": true,
        "_uuid": "ec1f71ca1df1db421214f6cd49dea16c300044a9"
      },
      "cell_type": "code",
      "source": "facet = sns.FacetGrid(train, hue=\"Survived\",aspect=4)\nfacet.map(sns.kdeplot,'Age',shade= True)\nfacet.set(xlim=(0, train['Age'].max()))\nfacet.add_legend()\nplt.xlim(40, 60)",
      "execution_count": null,
      "outputs": []
    },
    {
      "metadata": {
        "trusted": true,
        "_uuid": "383ad379caaa6cb903cd4917ab108e7b0784ef69"
      },
      "cell_type": "code",
      "source": "facet = sns.FacetGrid(train, hue=\"Survived\",aspect=4)\nfacet.map(sns.kdeplot,'Age',shade= True)\nfacet.set(xlim=(0, train['Age'].max()))\nfacet.add_legend()\nplt.xlim(40, 60)",
      "execution_count": null,
      "outputs": []
    },
    {
      "metadata": {
        "trusted": true,
        "_uuid": "aa81d3ed2f12600f740f95a5ec009ae093dc696f"
      },
      "cell_type": "code",
      "source": "train.info()",
      "execution_count": null,
      "outputs": []
    },
    {
      "metadata": {
        "trusted": true,
        "_uuid": "756b510432692b8d92713ae9c2cce4658c1494bd"
      },
      "cell_type": "code",
      "source": "test.info()",
      "execution_count": null,
      "outputs": []
    },
    {
      "metadata": {
        "trusted": true,
        "_uuid": "392cf66962a659db83c9a5d5e31ce9781402c63a"
      },
      "cell_type": "code",
      "source": "for dataset in total_data:\n    dataset.loc[ dataset['Age'] <= 13, 'Age'] = 0,\n    dataset.loc[(dataset['Age'] > 13) & (dataset['Age'] <= 20), 'Age'] = 1,\n    dataset.loc[(dataset['Age'] > 20) & (dataset['Age'] <= 30), 'Age'] = 2,\n    dataset.loc[(dataset['Age'] > 30) & (dataset['Age'] <= 40), 'Age'] = 3,\n    dataset.loc[(dataset['Age'] > 40) & (dataset['Age'] <= 50), 'Age'] = 4,\n    dataset.loc[(dataset['Age'] > 50) & (dataset['Age'] <= 60), 'Age'] = 5,\n    dataset.loc[ dataset['Age'] > 60, 'Age'] = 6",
      "execution_count": null,
      "outputs": []
    },
    {
      "metadata": {
        "trusted": true,
        "_uuid": "c42b7603e57764ef680c325edb67bdfcb09170a0"
      },
      "cell_type": "code",
      "source": "train.head()",
      "execution_count": null,
      "outputs": []
    },
    {
      "metadata": {
        "trusted": true,
        "_uuid": "983ac198f1e687dc4c81f7495e6ac8fb871c5033"
      },
      "cell_type": "code",
      "source": "test.head()",
      "execution_count": null,
      "outputs": []
    },
    {
      "metadata": {
        "trusted": true,
        "_uuid": "399f18aba7c58b1489081b95e3108bb9be0da99c"
      },
      "cell_type": "code",
      "source": "bar_chart('Age')",
      "execution_count": null,
      "outputs": []
    },
    {
      "metadata": {
        "trusted": true,
        "_uuid": "6998eba789bb63add296f978a3b6991bf7ea85a1"
      },
      "cell_type": "code",
      "source": "Pclass1 = train[train['Pclass']==1]['Embarked'].value_counts()\nPclass2 = train[train['Pclass']==2]['Embarked'].value_counts()\nPclass3 = train[train['Pclass']==3]['Embarked'].value_counts()\ndf = pd.DataFrame([Pclass1, Pclass2, Pclass3])\ndf.index = ['1st class','2nd class', '3rd class']\ndf.plot(kind='bar',stacked=True, figsize=(10,5))",
      "execution_count": null,
      "outputs": []
    },
    {
      "metadata": {
        "trusted": true,
        "_uuid": "8c369cff1b7a1d10e8b3a874513864c0f8c7937b"
      },
      "cell_type": "code",
      "source": "for dataset in total_data:\n    dataset['Embarked'] = dataset['Embarked'].fillna('S')",
      "execution_count": null,
      "outputs": []
    },
    {
      "metadata": {
        "trusted": true,
        "_uuid": "e1db9418685b25a82e398c375c4ffdbdb9409e94"
      },
      "cell_type": "code",
      "source": "test.head()",
      "execution_count": null,
      "outputs": []
    },
    {
      "metadata": {
        "trusted": true,
        "_uuid": "2bedbf312a89d75402a81be9cc5492462bcd7d75"
      },
      "cell_type": "code",
      "source": "train.head()",
      "execution_count": null,
      "outputs": []
    },
    {
      "metadata": {
        "trusted": true,
        "_uuid": "adb4b22132d7c3067d35fa5ca95604efe7e49d98"
      },
      "cell_type": "code",
      "source": "embarked_mapping = {\"S\": 0, \"C\": 1, \"Q\": 2}\nfor dataset in total_data:\n    dataset['Embarked'] = dataset['Embarked'].map(embarked_mapping)",
      "execution_count": null,
      "outputs": []
    },
    {
      "metadata": {
        "trusted": true,
        "_uuid": "5727b5732a564ce30a0e43379399e370d5bd9df5"
      },
      "cell_type": "code",
      "source": "train[\"Fare\"].fillna(train.groupby(\"Pclass\")[\"Fare\"].transform(\"median\"), inplace=True)\ntest[\"Fare\"].fillna(test.groupby(\"Pclass\")[\"Fare\"].transform(\"median\"), inplace=True)\ntrain.head(30)",
      "execution_count": null,
      "outputs": []
    },
    {
      "metadata": {
        "trusted": true,
        "_uuid": "e41ce84717d6fd2d8561cc4fdbfbd8e2ac761758"
      },
      "cell_type": "code",
      "source": "facet = sns.FacetGrid(train, hue=\"Survived\",aspect=4)\nfacet.map(sns.kdeplot,'Fare',shade= True)\nfacet.set(xlim=(0, train['Fare'].max()))\nfacet.add_legend()\n \nplt.show()",
      "execution_count": null,
      "outputs": []
    },
    {
      "metadata": {
        "trusted": true,
        "_uuid": "f2490e4721325d9b6de9dd58c9a1e1b455cc278e"
      },
      "cell_type": "code",
      "source": "facet = sns.FacetGrid(train, hue=\"Survived\",aspect=4)\nfacet.map(sns.kdeplot,'Fare',shade= True)\nfacet.set(xlim=(0, train['Fare'].max()))\nfacet.add_legend()\nplt.xlim(0, 20)",
      "execution_count": null,
      "outputs": []
    },
    {
      "metadata": {
        "trusted": true,
        "_uuid": "0fe2b871ae3200f24c4bc910909f1d86e468b658"
      },
      "cell_type": "code",
      "source": "facet = sns.FacetGrid(train, hue=\"Survived\",aspect=4)\nfacet.map(sns.kdeplot,'Fare',shade= True)\nfacet.set(xlim=(0, train['Fare'].max()))\nfacet.add_legend()\nplt.xlim(0, 30)",
      "execution_count": null,
      "outputs": []
    },
    {
      "metadata": {
        "trusted": true,
        "_uuid": "b3ad35f3344ad597e7165ac1d6f0ab87e724fca4"
      },
      "cell_type": "code",
      "source": "facet = sns.FacetGrid(train, hue=\"Survived\",aspect=4)\nfacet.map(sns.kdeplot,'Fare',shade= True)\nfacet.set(xlim=(0, train['Fare'].max()))\nfacet.add_legend()\nplt.xlim(0)",
      "execution_count": null,
      "outputs": []
    },
    {
      "metadata": {
        "trusted": true,
        "_uuid": "dcecf943015c46bc468f3a5fc8df06f80da16492"
      },
      "cell_type": "code",
      "source": "for dataset in total_data:\n    dataset.loc[ dataset['Fare'] <= 20, 'Fare'] = 0,\n    dataset.loc[(dataset['Fare'] > 20) & (dataset['Fare'] <= 50), 'Fare'] = 1,\n    dataset.loc[(dataset['Fare'] > 50) & (dataset['Fare'] <= 100), 'Fare'] = 2,\n    dataset.loc[ dataset['Fare'] > 100, 'Fare'] = 3",
      "execution_count": null,
      "outputs": []
    },
    {
      "metadata": {
        "trusted": true,
        "_uuid": "6782c42aaa6b1fd6d55f6293a1104952d7285bbf"
      },
      "cell_type": "code",
      "source": "train.head(20)",
      "execution_count": null,
      "outputs": []
    },
    {
      "metadata": {
        "trusted": true,
        "_uuid": "c0dc3e4e213dc9473fd6b68a609e390a19cb8755"
      },
      "cell_type": "code",
      "source": "test.head()",
      "execution_count": null,
      "outputs": []
    },
    {
      "metadata": {
        "trusted": true,
        "_uuid": "1653ab09607e9a36f39af6837e66d5212a2529de"
      },
      "cell_type": "code",
      "source": "train.drop('Cabin', axis=1, inplace=True)\ntest.drop('Cabin', axis=1, inplace=True)",
      "execution_count": null,
      "outputs": []
    },
    {
      "metadata": {
        "trusted": true,
        "_uuid": "6fa7643e7cd82d142d331e53127cf1a1b55508d9"
      },
      "cell_type": "code",
      "source": "train.head()",
      "execution_count": null,
      "outputs": []
    },
    {
      "metadata": {
        "trusted": true,
        "_uuid": "0cd003e888f965a7b19238652fa5f3f61f19f42d"
      },
      "cell_type": "code",
      "source": "test.head()",
      "execution_count": null,
      "outputs": []
    },
    {
      "metadata": {
        "trusted": true,
        "_uuid": "8f783ea1607b12fe6e575e020c248d201d9a53b7"
      },
      "cell_type": "code",
      "source": "train[\"FamilySize\"] = train[\"SibSp\"] + train[\"Parch\"] + 1\ntest[\"FamilySize\"] = test[\"SibSp\"] + test[\"Parch\"] + 1",
      "execution_count": null,
      "outputs": []
    },
    {
      "metadata": {
        "trusted": true,
        "_uuid": "905f0f986c6bb2f7cea6a880dd009df8fce99b72"
      },
      "cell_type": "code",
      "source": "facet = sns.FacetGrid(train, hue=\"Survived\",aspect=4)\nfacet.map(sns.kdeplot,'FamilySize',shade= True)\nfacet.set(xlim=(0, train['FamilySize'].max()))\nfacet.add_legend()\nplt.xlim(0)",
      "execution_count": null,
      "outputs": []
    },
    {
      "metadata": {
        "trusted": true,
        "_uuid": "ea96d945bafda55057dc4bed65ed7007acfebc67"
      },
      "cell_type": "code",
      "source": "family_mapping = {1: 0, 2: 0.4, 3: 0.8, 4: 1.2, 5: 1.6, 6: 2, 7: 2.4, 8: 2.8, 9: 3.2, 10: 3.6, 11: 4}\nfor dataset in total_data:\n    dataset['FamilySize'] = dataset['FamilySize'].map(family_mapping)",
      "execution_count": null,
      "outputs": []
    },
    {
      "metadata": {
        "trusted": true,
        "_uuid": "59ed794a755ae93806dd2ebf3c7942ef1eea33f3"
      },
      "cell_type": "code",
      "source": "train.head()",
      "execution_count": null,
      "outputs": []
    },
    {
      "metadata": {
        "trusted": true,
        "_uuid": "f8bcb3b0e333d77881d74a16844b4c1d7dae6109"
      },
      "cell_type": "code",
      "source": "test.head()",
      "execution_count": null,
      "outputs": []
    },
    {
      "metadata": {
        "trusted": true,
        "_uuid": "0cce90dad934e6e556074bcbced20d7ff2c957d6"
      },
      "cell_type": "code",
      "source": "features_drop = ['Ticket', 'SibSp', 'Parch']\ntrain = train.drop(features_drop, axis=1)\ntest = test.drop(features_drop, axis=1)\ntrain = train.drop(['PassengerId'], axis=1)",
      "execution_count": null,
      "outputs": []
    },
    {
      "metadata": {
        "trusted": true,
        "_uuid": "d8096c21d3e4bdf2934674563116863cf2f5467a"
      },
      "cell_type": "code",
      "source": "train.head()",
      "execution_count": null,
      "outputs": []
    },
    {
      "metadata": {
        "trusted": true,
        "_uuid": "0e71d8af6fbb7b546c53bb96a464339102c3bdbc"
      },
      "cell_type": "code",
      "source": "test.head()",
      "execution_count": null,
      "outputs": []
    },
    {
      "metadata": {
        "trusted": true,
        "_uuid": "a44e44be747cdd2ba5aa963a2d5885db1b07766b"
      },
      "cell_type": "code",
      "source": "from sklearn.neighbors import KNeighborsClassifier\nfrom sklearn.tree import DecisionTreeClassifier\nfrom sklearn.ensemble import RandomForestClassifier\nfrom sklearn.naive_bayes import GaussianNB\nfrom sklearn.svm import SVC",
      "execution_count": null,
      "outputs": []
    },
    {
      "metadata": {
        "trusted": true,
        "_uuid": "c9334683ae65d5ad447dbcf78eaa193e7ff0b3b5"
      },
      "cell_type": "code",
      "source": "from sklearn.model_selection import KFold\nfrom sklearn.model_selection import cross_val_score\nk_fold = KFold(n_splits=10, shuffle=True, random_state=0)",
      "execution_count": null,
      "outputs": []
    },
    {
      "metadata": {
        "trusted": true,
        "_uuid": "9845a06219e78e8ba6f31ef26060c06877270582"
      },
      "cell_type": "code",
      "source": "train_data = train.drop('Survived', axis=1)\ntarget = train['Survived']\n\ntrain_data.shape, target.shape",
      "execution_count": null,
      "outputs": []
    },
    {
      "metadata": {
        "trusted": true,
        "_uuid": "b2b6854a23a029fc7e0837a0cd54fcdc72bb3285"
      },
      "cell_type": "code",
      "source": "clf = KNeighborsClassifier(n_neighbors = 10)\nscoring = 'accuracy'\nscore = cross_val_score(clf, train_data, target, cv=k_fold, n_jobs=1, scoring=scoring)\nprint(score)",
      "execution_count": null,
      "outputs": []
    },
    {
      "metadata": {
        "trusted": true,
        "_uuid": "6dcd605eb22110cb9b9deaeb1381fb4177fa263e"
      },
      "cell_type": "code",
      "source": "round(np.mean(score)*100, 2)",
      "execution_count": null,
      "outputs": []
    },
    {
      "metadata": {
        "trusted": true,
        "_uuid": "bff51ef2144086495e5339ab4f96f24fcddcac50"
      },
      "cell_type": "code",
      "source": "clf = DecisionTreeClassifier()\nscoring = 'accuracy'\nscore = cross_val_score(clf, train_data, target, cv=k_fold, n_jobs=1, scoring=scoring)\nprint(score)",
      "execution_count": null,
      "outputs": []
    },
    {
      "metadata": {
        "trusted": true,
        "_uuid": "fb87a3c755a199b63a7660293524e37cc0147790"
      },
      "cell_type": "code",
      "source": "round(np.mean(score)*100, 2)",
      "execution_count": null,
      "outputs": []
    },
    {
      "metadata": {
        "trusted": true,
        "_uuid": "d2f03377d59a1bad4fb16127dc003b8210a2dd66"
      },
      "cell_type": "code",
      "source": "clf = RandomForestClassifier(n_estimators=10)\nscoring = 'accuracy'\nscore = cross_val_score(clf, train_data, target, cv=k_fold, n_jobs=1, scoring=scoring)\nprint(score)",
      "execution_count": null,
      "outputs": []
    },
    {
      "metadata": {
        "trusted": true,
        "_uuid": "2dfd1b899ec78812ccb8eca1728887708f7a45b8"
      },
      "cell_type": "code",
      "source": "round(np.mean(score)*100, 2)",
      "execution_count": null,
      "outputs": []
    },
    {
      "metadata": {
        "trusted": true,
        "_uuid": "b418eedc0c9793fb6643005a2a76ee802eb9585d"
      },
      "cell_type": "code",
      "source": "clf = GaussianNB()\nscoring = 'accuracy'\nscore = cross_val_score(clf, train_data, target, cv=k_fold, n_jobs=1, scoring=scoring)\nprint(score)",
      "execution_count": null,
      "outputs": []
    },
    {
      "metadata": {
        "trusted": true,
        "_uuid": "5cee8c0b0a9ac158898ada47ea451e52b81eaddb"
      },
      "cell_type": "code",
      "source": "round(np.mean(score)*100, 2)",
      "execution_count": null,
      "outputs": []
    },
    {
      "metadata": {
        "trusted": true,
        "_uuid": "55c9723cbd0180cb03e953fd5461f06aa1f2fa3e"
      },
      "cell_type": "code",
      "source": "clf = SVC()\nscoring = 'accuracy'\nscore = cross_val_score(clf, train_data, target, cv=k_fold, n_jobs=1, scoring=scoring)\nprint(score)",
      "execution_count": null,
      "outputs": []
    },
    {
      "metadata": {
        "trusted": true,
        "_uuid": "5ccdedb2c1bd4be0423c3f37f8a1ee25646c60a6"
      },
      "cell_type": "code",
      "source": "round(np.mean(score)*100,2)",
      "execution_count": null,
      "outputs": []
    },
    {
      "metadata": {
        "trusted": true,
        "_uuid": "61fb142ebe084eeaaa80adc2f0e02b4c9aa9f02e"
      },
      "cell_type": "code",
      "source": "clf = SVC()\nclf.fit(train_data, target)",
      "execution_count": null,
      "outputs": []
    },
    {
      "metadata": {
        "trusted": true,
        "_uuid": "384e029c3c2badc26785807876cfbd35aa269699"
      },
      "cell_type": "code",
      "source": "test_data = test.drop(\"PassengerId\", axis=1).copy()\nprediction = clf.predict(test_data)",
      "execution_count": null,
      "outputs": []
    },
    {
      "metadata": {
        "trusted": true,
        "_uuid": "5e4cf73f44dc53831ea35933be165d8e7df10910"
      },
      "cell_type": "code",
      "source": "from IPython.display import HTML\nimport pandas as pd\nimport numpy as np\nimport base64\n\ndef create_download_link(df, title = \"Download CSV file\", filename = \"data.csv\", index=False, Header=False):  \n    csv = df.to_csv()\n    b64 = base64.b64encode(csv.encode())\n    payload = b64.decode()\n    html = '<a download=\"{filename}\" href=\"data:text/csv;base64,{payload}\" target=\"_blank\">{title}</a>'\n    html = html.format(payload=payload,title=title,filename=filename)\n    return HTML(html)\n\nsubmission = pd.DataFrame({\n        \"PassengerId\": test[\"PassengerId\"],\n        \"Survived\": prediction\n    })\n\n# create a link to download the dataframe\ncreate_download_link(submission)",
      "execution_count": null,
      "outputs": []
    },
    {
      "metadata": {
        "trusted": true,
        "_uuid": "42419e2cb7d77535f1c0372cb5f83173cfd2826c"
      },
      "cell_type": "code",
      "source": "",
      "execution_count": null,
      "outputs": []
    }
  ],
  "metadata": {
    "kernelspec": {
      "display_name": "Python 3",
      "language": "python",
      "name": "python3"
    },
    "language_info": {
      "name": "python",
      "version": "3.6.6",
      "mimetype": "text/x-python",
      "codemirror_mode": {
        "name": "ipython",
        "version": 3
      },
      "pygments_lexer": "ipython3",
      "nbconvert_exporter": "python",
      "file_extension": ".py"
    }
  },
  "nbformat": 4,
  "nbformat_minor": 1
}